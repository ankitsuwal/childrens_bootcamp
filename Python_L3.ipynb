{
 "cells": [
  {
   "cell_type": "markdown",
   "metadata": {},
   "source": [
    "# Python if else\n",
    "\n",
    "### Decision making statements"
   ]
  },
  {
   "cell_type": "markdown",
   "metadata": {},
   "source": [
    "Decision making statements in programming languages decides the direction of flow of program execution. Decision making statements available in python are:\n",
    "\n",
    "* if statement\n",
    "* if..else statements\n",
    "* nested if statements\n",
    "* if-elif ladder\n",
    "* Short Hand if statement\n",
    "* Short Hand if-else statement"
   ]
  },
  {
   "attachments": {},
   "cell_type": "markdown",
   "metadata": {},
   "source": [
    "# if statement \n",
    "If statement is most simplest statement for decision making. It is used to decide whether a certain statement or block of statements will be executed or not .\n",
    "\n",
    "\n",
    "if condition:           \n",
    "       #Statements to execute if\n",
    "       #condition is true\n",
    "\n",
    "<img src=\"images/if-statement.jpg\" alt=\"Drawing\" style=\"width: 300px;\"/>\n"
   ]
  },
  {
   "cell_type": "code",
   "execution_count": null,
   "metadata": {},
   "outputs": [],
   "source": [
    "# python program to illustrate If statement \n",
    "  \n",
    "i = 10\n",
    "if (i > 15): \n",
    "   print (\"10 is less than 15\") \n",
    "print (\"I am Not in if\") "
   ]
  },
  {
   "cell_type": "markdown",
   "metadata": {},
   "source": [
    "## if- else\n",
    "\n",
    "Syntax:\n",
    "\n",
    "if (condition):\n",
    "    # Executes this block if\n",
    "    # condition is true\n",
    "else:\n",
    "    # Executes this block if\n",
    "    # condition is false\n",
    "    \n",
    "<img src=\"images/if-else.jpg\" alt=\"Drawing\" style=\"width: 300px;\"/>"
   ]
  },
  {
   "cell_type": "code",
   "execution_count": null,
   "metadata": {},
   "outputs": [],
   "source": [
    "# python program to illustrate If else statement \n",
    "#!/usr/bin/python \n",
    "  \n",
    "i = 20; \n",
    "if (i < 15): \n",
    "    print (\"i is smaller than 15\") \n",
    "    print (\"i'm in if Block\") \n",
    "else: \n",
    "    print (\"i is greater than 15\") \n",
    "    print (\"i'm in else Block\") \n",
    "print (\"i'm not in if and not in else Block\")"
   ]
  },
  {
   "cell_type": "markdown",
   "metadata": {},
   "source": [
    "## nested-if\n",
    "\n",
    "Syntax:\n",
    "\n",
    "if (condition1):\n",
    "       #Executes when condition1 is true\n",
    "       \n",
    "       if (condition2): \n",
    "          # Executes when condition2 is true\n",
    "       #if Block is end here\n",
    "       \n",
    "#if Block is end here\n",
    "\n",
    "<img src=\"images/nested_if.jpg\" alt=\"Drawing\" style=\"width: 800px;\"/>"
   ]
  },
  {
   "cell_type": "code",
   "execution_count": 1,
   "metadata": {},
   "outputs": [
    {
     "name": "stdout",
     "output_type": "stream",
     "text": [
      "i is smaller than 15\n",
      "i is smaller than 12 too\n"
     ]
    }
   ],
   "source": [
    "# python program to illustrate nested If statement \n",
    "#!/usr/bin/python \n",
    "i = 10\n",
    "if (i == 10): \n",
    "    #  First if statement \n",
    "    if (i < 15): \n",
    "        print (\"i is smaller than 15\") \n",
    "    # Nested - if statement \n",
    "    # Will only be executed if statement above \n",
    "    # it is true \n",
    "    if (i < 12): \n",
    "        print (\"i is smaller than 12 too\") \n",
    "    else: \n",
    "        print (\"i is greater than 15\")"
   ]
  },
  {
   "cell_type": "code",
   "execution_count": 2,
   "metadata": {},
   "outputs": [
    {
     "name": "stdout",
     "output_type": "stream",
     "text": [
      "i is 20\n"
     ]
    }
   ],
   "source": [
    "# Python program to illustrate if-elif-else ladder \n",
    "#!/usr/bin/python \n",
    "\n",
    "i = 20\n",
    "if (i == 10): \n",
    "\tprint (\"i is 10\") \n",
    "elif (i == 15): \n",
    "\tprint (\"i is 15\") \n",
    "elif (i == 20): \n",
    "\tprint (\"i is 20\") \n",
    "else: \n",
    "\tprint (\"i is not present\") \n"
   ]
  },
  {
   "cell_type": "markdown",
   "metadata": {},
   "source": [
    "## Short Hand if statement\n",
    "\n",
    "Syntax: \n",
    "if condition: statement"
   ]
  },
  {
   "cell_type": "code",
   "execution_count": null,
   "metadata": {},
   "outputs": [],
   "source": [
    "# Python program to illustrate short hand if \n",
    "i = 10\n",
    "if i < 15: print(\"i is less than 15\") "
   ]
  },
  {
   "cell_type": "markdown",
   "metadata": {},
   "source": [
    "## Short Hand if-else statement\n",
    "\n",
    "Syntax:\n",
    "\n",
    "statement_when_True if condition else statement_when_False"
   ]
  },
  {
   "cell_type": "code",
   "execution_count": 4,
   "metadata": {},
   "outputs": [
    {
     "name": "stdout",
     "output_type": "stream",
     "text": [
      "True\n",
      "Yes i is less than 15\n"
     ]
    }
   ],
   "source": [
    "# Python program to illustrate short hand if-else \n",
    "i = 10\n",
    "print(True) if i < 15 else print(False)\n",
    "print(\"Yes i is less than 15\") if i < 15 else print(\"No i is not less than 15\")"
   ]
  },
  {
   "cell_type": "code",
   "execution_count": null,
   "metadata": {},
   "outputs": [],
   "source": []
  }
 ],
 "metadata": {
  "kernelspec": {
   "display_name": "Python 3",
   "language": "python",
   "name": "python3"
  },
  "language_info": {
   "codemirror_mode": {
    "name": "ipython",
    "version": 3
   },
   "file_extension": ".py",
   "mimetype": "text/x-python",
   "name": "python",
   "nbconvert_exporter": "python",
   "pygments_lexer": "ipython3",
   "version": "3.8.3"
  }
 },
 "nbformat": 4,
 "nbformat_minor": 4
}
