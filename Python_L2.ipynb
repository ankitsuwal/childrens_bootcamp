{
 "cells": [
  {
   "cell_type": "markdown",
   "metadata": {},
   "source": [
    "## Structuring Python Programs"
   ]
  },
  {
   "cell_type": "code",
   "execution_count": null,
   "metadata": {},
   "outputs": [],
   "source": [
    "# Example 1 \n",
    "  \n",
    "print('Welcome to Python classes') "
   ]
  },
  {
   "cell_type": "markdown",
   "metadata": {},
   "source": [
    "### Multiple Statements per Line\n",
    "\n",
    "Not a good practice but you can write it in Python."
   ]
  },
  {
   "cell_type": "code",
   "execution_count": null,
   "metadata": {},
   "outputs": [],
   "source": [
    "# Example \n",
    "  \n",
    "a = 10; b = 20; c = b + a \n",
    "  \n",
    "print(a); print(b); print(c) "
   ]
  },
  {
   "cell_type": "markdown",
   "metadata": {},
   "source": [
    "### Comments in Python\n",
    "\n",
    "Writing comments in the code are very important and they help in code readability and also tell more about the code.\n",
    "\n",
    "Symbols used for writing comments include Hash (#) or Triple Double Quotation marks(\"\"\" your comment \"\"\"). "
   ]
  },
  {
   "cell_type": "code",
   "execution_count": null,
   "metadata": {},
   "outputs": [],
   "source": [
    "# Example 1\n",
    "# This program will print Hello World.\n",
    "print(\"Hello World\")\n",
    "\n",
    "\"\"\" Below program will print addition of two values \"\"\"\n",
    "value1 = 100\n",
    "value2 = 200\n",
    "value = value1 + value2\n",
    "print(\"Addition of two values: \", value)"
   ]
  },
  {
   "cell_type": "markdown",
   "metadata": {},
   "source": [
    "### Whitespaces as Indentation\n",
    "\n",
    "Python’s syntax is quite easy, but still you have to take some care in writing the code. Indentation is used in writing python codes.\n",
    "\n",
    "\n",
    "Whitespaces before a statement have significant role and are used in indentation. Whitespace before a statement can have a different meaning. Let’s try an example."
   ]
  },
  {
   "cell_type": "code",
   "execution_count": 2,
   "metadata": {
    "collapsed": true
   },
   "outputs": [
    {
     "ename": "IndentationError",
     "evalue": "unexpected indent (<ipython-input-2-01bc8f67d841>, line 5)",
     "output_type": "error",
     "traceback": [
      "\u001b[0;36m  File \u001b[0;32m\"<ipython-input-2-01bc8f67d841>\"\u001b[0;36m, line \u001b[0;32m5\u001b[0m\n\u001b[0;31m    print('Rajwada, Indore, MP') # This will generate an error\u001b[0m\n\u001b[0m    ^\u001b[0m\n\u001b[0;31mIndentationError\u001b[0m\u001b[0;31m:\u001b[0m unexpected indent\n"
     ]
    }
   ],
   "source": [
    "# Example \n",
    "\n",
    "print('Indore, MP') # Correct \n",
    "\n",
    "    print('Rajwada, Indore, MP') # This will generate an error \n",
    "\n",
    "# The error would be somewhat 'unexpected indent' \n"
   ]
  },
  {
   "cell_type": "markdown",
   "metadata": {},
   "source": [
    "### How to assign values to variables in Python and other languages\n",
    "# Python"
   ]
  },
  {
   "cell_type": "code",
   "execution_count": null,
   "metadata": {},
   "outputs": [],
   "source": [
    "# initialising variable directly \n",
    "a = 5\n",
    "\n",
    "# printing value of a \n",
    "print (\"The value of a is: \" + str(a)) "
   ]
  },
  {
   "cell_type": "markdown",
   "metadata": {},
   "source": [
    "# In  C Language"
   ]
  },
  {
   "cell_type": "code",
   "execution_count": null,
   "metadata": {},
   "outputs": [],
   "source": [
    "#include <stdio.h> \n",
    "\n",
    "int main() \n",
    "{ \n",
    "\t// initialising variables directly \n",
    "\tint a = 5; \n",
    "\n",
    "\t// printing value of a \n",
    "\tprintf(\"The value of a is: %d\", a); \n",
    "} \n"
   ]
  },
  {
   "cell_type": "markdown",
   "metadata": {},
   "source": [
    "### How to print without newline in Python?\n",
    "\n",
    "Python print() function by default ends with newline.\n",
    "\n",
    "Python has a predefined format if you use print(a_variable) then it will go to next line automatically."
   ]
  },
  {
   "cell_type": "code",
   "execution_count": 3,
   "metadata": {},
   "outputs": [
    {
     "name": "stdout",
     "output_type": "stream",
     "text": [
      "Python\n",
      "Python Class\n"
     ]
    }
   ],
   "source": [
    "# python3.x will print in new line and python2.x will print in same line \n",
    "print(\"Python\") \n",
    "print(\"Python Class\") "
   ]
  },
  {
   "cell_type": "code",
   "execution_count": null,
   "metadata": {},
   "outputs": [],
   "source": []
  }
 ],
 "metadata": {
  "kernelspec": {
   "display_name": "Python 3",
   "language": "python",
   "name": "python3"
  },
  "language_info": {
   "codemirror_mode": {
    "name": "ipython",
    "version": 3
   },
   "file_extension": ".py",
   "mimetype": "text/x-python",
   "name": "python",
   "nbconvert_exporter": "python",
   "pygments_lexer": "ipython3",
   "version": "3.8.3"
  }
 },
 "nbformat": 4,
 "nbformat_minor": 4
}
