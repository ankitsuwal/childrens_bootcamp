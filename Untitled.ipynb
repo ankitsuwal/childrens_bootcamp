{
 "cells": [
  {
   "cell_type": "markdown",
   "metadata": {},
   "source": [
    "## What is language?"
   ]
  },
  {
   "cell_type": "markdown",
   "metadata": {},
   "source": [
    "## What is programming language?"
   ]
  },
  {
   "cell_type": "markdown",
   "metadata": {},
   "source": [
    "A programming language is a vocabulary and set of grammatical rules for instructing a computer or computing device to perform specific tasks. The term programming language usually refers to high-level languages, \n",
    "such as BASIC, C, C++, COBOL, Java, FORTRAN, Ada, and Pascal, Python."
   ]
  },
  {
   "cell_type": "markdown",
   "metadata": {},
   "source": [
    "## Python"
   ]
  },
  {
   "cell_type": "markdown",
   "metadata": {},
   "source": [
    "## Created or Invented by: "
   ]
  },
  {
   "cell_type": "markdown",
   "metadata": {},
   "source": [
    "It was created by Guido van Rossum in 1991 and further developed by the Python Software Foundation.\n",
    "\n",
    "Python is a programming language that lets you work quickly and integrate systems more efficiently.\n",
    "\n",
    "There are two major Python versions: Python 2 and Python 3. Both are quite different."
   ]
  },
  {
   "cell_type": "markdown",
   "metadata": {},
   "source": [
    "## Strength of Python\n",
    "The biggest strength of Python is huge collection of standard library which can be used for the following:\n",
    "* Machine Learning\n",
    "* GUI Applications (like Kivy, Tkinter, PyQt etc. )\n",
    "* Web frameworks like Django (used by YouTube, Instagram, Dropbox)\n",
    "* Image processing (like OpenCV, Pillow)\n",
    "* Web scraping (like Scrapy, BeautifulSoup, Selenium)\n",
    "* Test frameworks\n",
    "* Multimedia\n",
    "* Scientific computing\n",
    "* Text processing and many more.."
   ]
  },
  {
   "cell_type": "markdown",
   "metadata": {},
   "source": [
    "## Used by:\n",
    "* Google \n",
    "* Amazon\n",
    "* Facebook\n",
    "* Instagram\n",
    "* Dropbox \n",
    "* Uber… etc."
   ]
  },
  {
   "cell_type": "code",
   "execution_count": 17,
   "metadata": {},
   "outputs": [
    {
     "name": "stdout",
     "output_type": "stream",
     "text": [
      "11111111111\n"
     ]
    }
   ],
   "source": [
    "# Script Begins \n",
    "\"\"\" Script Begins\n",
    "I'm learning programming \"\"\"\n",
    "\n",
    "print(\"Hello world\")\n",
    "  \n",
    "# Scripts Ends"
   ]
  },
  {
   "cell_type": "code",
   "execution_count": 18,
   "metadata": {},
   "outputs": [
    {
     "name": "stdout",
     "output_type": "stream",
     "text": [
      "5\n"
     ]
    }
   ],
   "source": [
    "# let's learn calculator\n",
    "print(2 + 3)"
   ]
  },
  {
   "cell_type": "code",
   "execution_count": 30,
   "metadata": {},
   "outputs": [
    {
     "data": {
      "text/plain": [
       "5"
      ]
     },
     "execution_count": 30,
     "metadata": {},
     "output_type": "execute_result"
    }
   ],
   "source": [
    "2 + 3"
   ]
  },
  {
   "cell_type": "code",
   "execution_count": 22,
   "metadata": {},
   "outputs": [
    {
     "name": "stdout",
     "output_type": "stream",
     "text": [
      "25\n",
      "15\n",
      "100\n",
      "4\n"
     ]
    }
   ],
   "source": [
    "# functions \n",
    "def calculator(a, b):\n",
    "    print(a + b) # 25\n",
    "    print(a - b) # 15\n",
    "    print(a * b) # 100\n",
    "    print(a // b) # 4\n",
    "\n",
    "calculator(20, 5)"
   ]
  },
  {
   "cell_type": "code",
   "execution_count": 27,
   "metadata": {},
   "outputs": [],
   "source": [
    "def calculator(sign, a, b):\n",
    "    if sign is \"p\":\n",
    "        print(a + b)\n",
    "    elif sign is \"s\":\n",
    "        print(a - b)\n",
    "    elif sign is \"m\":\n",
    "        print(a * b)\n",
    "    elif sign is \"d\":\n",
    "        print(a // b)"
   ]
  },
  {
   "cell_type": "code",
   "execution_count": 29,
   "metadata": {},
   "outputs": [
    {
     "name": "stdout",
     "output_type": "stream",
     "text": [
      "25\n"
     ]
    }
   ],
   "source": [
    "calculator(\"p\", 20, 5)"
   ]
  },
  {
   "cell_type": "markdown",
   "metadata": {},
   "source": [
    "## What is keywords ?"
   ]
  },
  {
   "cell_type": "markdown",
   "metadata": {},
   "source": [
    "In programming, a keyword is a **“reserved word”** by the language which convey a special meaning to the interpreter. \n",
    "It may be a command or a parameter. Keywords cannot be used as a variable name in the program snippet"
   ]
  },
  {
   "cell_type": "markdown",
   "metadata": {},
   "source": [
    "## Keywords in Python\n",
    "**Below is list of keywords registered by python**"
   ]
  },
  {
   "cell_type": "code",
   "execution_count": 1,
   "metadata": {
    "collapsed": true
   },
   "outputs": [
    {
     "ename": "SyntaxError",
     "evalue": "invalid syntax (<ipython-input-1-bbdd72c9563f>, line 1)",
     "output_type": "error",
     "traceback": [
      "\u001b[0;36m  File \u001b[0;32m\"<ipython-input-1-bbdd72c9563f>\"\u001b[0;36m, line \u001b[0;32m1\u001b[0m\n\u001b[0;31m    False, elif, lambda,\u001b[0m\n\u001b[0m              ^\u001b[0m\n\u001b[0;31mSyntaxError\u001b[0m\u001b[0;31m:\u001b[0m invalid syntax\n"
     ]
    }
   ],
   "source": [
    "False, elif, lambda,\n",
    "None, else, nonlocal,\n",
    "True, except, not,\n",
    "and, finally, or,\n",
    "as, for, pass,\n",
    "assert, from, raise,\n",
    "break, global, return,\n",
    "class, if, try,\n",
    "continue, import, while,\n",
    "def, in, with,\n",
    "del, is, yield,"
   ]
  },
  {
   "cell_type": "markdown",
   "metadata": {},
   "source": [
    "## How to print list of all keywords"
   ]
  },
  {
   "cell_type": "code",
   "execution_count": 7,
   "metadata": {
    "collapsed": true
   },
   "outputs": [
    {
     "name": "stdout",
     "output_type": "stream",
     "text": [
      "['False', 'None', 'True', 'and', 'as', 'assert', 'break', 'class', 'continue', 'def', 'del', 'elif', 'else', 'except', 'finally', 'for', 'from', 'global', 'if', 'import', 'in', 'is', 'lambda', 'nonlocal', 'not', 'or', 'pass', 'raise', 'return', 'try', 'while', 'with', 'yield']\n"
     ]
    }
   ],
   "source": [
    "# importing \"keyword\" for keyword operations \n",
    "import keyword\n",
    "print(keyword.kwlist)"
   ]
  },
  {
   "cell_type": "markdown",
   "metadata": {},
   "source": [
    "## How to check if a string is keyword?"
   ]
  },
  {
   "cell_type": "code",
   "execution_count": 10,
   "metadata": {},
   "outputs": [],
   "source": [
    "# Write a program to check keyword\n"
   ]
  },
  {
   "cell_type": "code",
   "execution_count": 13,
   "metadata": {
    "collapsed": true
   },
   "outputs": [
    {
     "ename": "AssertionError",
     "evalue": "yes 5 is greater than 3",
     "output_type": "error",
     "traceback": [
      "\u001b[0;31m---------------------------------------------------------------------------\u001b[0m",
      "\u001b[0;31mAssertionError\u001b[0m                            Traceback (most recent call last)",
      "\u001b[0;32m<ipython-input-13-105e70a8b7c5>\u001b[0m in \u001b[0;36m<module>\u001b[0;34m\u001b[0m\n\u001b[0;32m----> 1\u001b[0;31m \u001b[0;32massert\u001b[0m \u001b[0;36m5\u001b[0m\u001b[0;34m<\u001b[0m\u001b[0;36m3\u001b[0m\u001b[0;34m,\u001b[0m  \u001b[0;34m\"yes 5 is greater than 3\"\u001b[0m\u001b[0;34m\u001b[0m\u001b[0;34m\u001b[0m\u001b[0m\n\u001b[0m",
      "\u001b[0;31mAssertionError\u001b[0m: yes 5 is greater than 3"
     ]
    }
   ],
   "source": [
    "assert 5<3,  \"yes 5 is greater than 3\""
   ]
  },
  {
   "cell_type": "markdown",
   "metadata": {},
   "source": [
    "## Let's see every keyword and what are the uses of keyword"
   ]
  },
  {
   "cell_type": "code",
   "execution_count": null,
   "metadata": {},
   "outputs": [],
   "source": []
  }
 ],
 "metadata": {
  "kernelspec": {
   "display_name": "Python 3",
   "language": "python",
   "name": "python3"
  },
  "language_info": {
   "codemirror_mode": {
    "name": "ipython",
    "version": 3
   },
   "file_extension": ".py",
   "mimetype": "text/x-python",
   "name": "python",
   "nbconvert_exporter": "python",
   "pygments_lexer": "ipython3",
   "version": "3.6.9"
  }
 },
 "nbformat": 4,
 "nbformat_minor": 4
}
