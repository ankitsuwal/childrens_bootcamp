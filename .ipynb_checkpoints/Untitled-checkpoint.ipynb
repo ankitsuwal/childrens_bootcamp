{
 "cells": [
  {
   "cell_type": "markdown",
   "metadata": {},
   "source": [
    "## What is language?"
   ]
  },
  {
   "cell_type": "markdown",
   "metadata": {},
   "source": [
    "## What is programming language?"
   ]
  },
  {
   "cell_type": "markdown",
   "metadata": {},
   "source": [
    "A programming language is a vocabulary and set of grammatical rules for instructing a computer or computing device to perform specific tasks. The term programming language usually refers to high-level languages, \n",
    "such as BASIC, C, C++, COBOL, Java, FORTRAN, Ada, and Pascal, Python."
   ]
  },
  {
   "cell_type": "markdown",
   "metadata": {},
   "source": [
    "## Python"
   ]
  },
  {
   "cell_type": "markdown",
   "metadata": {},
   "source": [
    "## Created or Invented by: "
   ]
  },
  {
   "cell_type": "markdown",
   "metadata": {},
   "source": [
    "It was created by Guido van Rossum in 1991 and further developed by the Python Software Foundation.\n",
    "\n",
    "Python is a programming language that lets you work quickly and integrate systems more efficiently.\n",
    "\n",
    "There are two major Python versions: Python 2 and Python 3. Both are quite different."
   ]
  },
  {
   "cell_type": "markdown",
   "metadata": {},
   "source": [
    "## Strength of Python\n",
    "The biggest strength of Python is huge collection of standard library which can be used for the following:\n",
    "* Machine Learning\n",
    "* GUI Applications (like Kivy, Tkinter, PyQt etc. )\n",
    "* Web frameworks like Django (used by YouTube, Instagram, Dropbox)\n",
    "* Image processing (like OpenCV, Pillow)\n",
    "* Web scraping (like Scrapy, BeautifulSoup, Selenium)\n",
    "* Test frameworks\n",
    "* Multimedia\n",
    "* Scientific computing\n",
    "* Text processing and many more.."
   ]
  },
  {
   "cell_type": "markdown",
   "metadata": {},
   "source": [
    "## Used by:\n",
    "* Google \n",
    "* Amazon\n",
    "* Facebook\n",
    "* Instagram\n",
    "* Dropbox \n",
    "* Uber… etc."
   ]
  },
  {
   "cell_type": "code",
   "execution_count": null,
   "metadata": {},
   "outputs": [],
   "source": [
    "# Script Begins \n",
    "\n",
    "print(\"Hello World\") \n",
    "  \n",
    "# Scripts Ends"
   ]
  }
 ],
 "metadata": {
  "kernelspec": {
   "display_name": "Python 3",
   "language": "python",
   "name": "python3"
  },
  "language_info": {
   "codemirror_mode": {
    "name": "ipython",
    "version": 3
   },
   "file_extension": ".py",
   "mimetype": "text/x-python",
   "name": "python",
   "nbconvert_exporter": "python",
   "pygments_lexer": "ipython3",
   "version": "3.6.9"
  }
 },
 "nbformat": 4,
 "nbformat_minor": 4
}
